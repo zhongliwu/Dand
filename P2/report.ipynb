{
 "cells": [
  {
   "cell_type": "markdown",
   "metadata": {},
   "source": [
    "# Report for investigating the Titanic Dataset\n",
    "\n",
    "## Question Phase\n",
    "### Question: what factors make people more likely to survive?\n",
    "\n",
    "Obviously, everyone will be curious about this question once they get the data set. I'll try to answer this question at the beginning.\n",
    "\n",
    "## Data Wrangling Phase\n",
    "\n",
    "Loading the csv data into memory, so I can analyze it. I also include the graph libraries like matplotlib here so later I can use them to draw some figures to demonstrate the result."
   ]
  },
  {
   "cell_type": "code",
   "execution_count": 1,
   "metadata": {
    "collapsed": true
   },
   "outputs": [],
   "source": [
    "import numpy as np\n",
    "import pandas as pd\n",
    "import matplotlib.pyplot as plt\n",
    "import seaborn as sns\n",
    "from __future__ import print_function\n",
    "%matplotlib inline\n",
    "\n",
    "filename = './titanic-data.csv'\n",
    "titanic_df = pd.read_csv(filename)"
   ]
  },
  {
   "cell_type": "markdown",
   "metadata": {},
   "source": [
    "Next, I will try to check the dataset to see if there are some values missing in the csv file. I aim to check the columns Survived, Pclass, Sex, Age, SibSp and Parch, for I will use them in my exploration phase."
   ]
  },
  {
   "cell_type": "code",
   "execution_count": 2,
   "metadata": {},
   "outputs": [
    {
     "name": "stdout",
     "output_type": "stream",
     "text": [
      "Total passengers in the dataset: 891\n",
      "Number of Survived values in the dataset: 891\n",
      "Number of Pclass values in the dataset: 891\n",
      "Number of Sex values in the dataset: 891\n",
      "Number of Age values in the dataset: 714\n",
      "Number of SibSp values in the dataset: 891\n",
      "Number of Parch values in the dataset: 891\n"
     ]
    }
   ],
   "source": [
    "print('Total passengers in the dataset: ', end='')\n",
    "print(titanic_df['PassengerId'].count())\n",
    "\n",
    "print('Number of Survived values in the dataset: ', end='')\n",
    "print(titanic_df['Survived'].count())\n",
    "\n",
    "print('Number of Pclass values in the dataset: ', end='')\n",
    "print(titanic_df['Pclass'].count())\n",
    "\n",
    "print('Number of Sex values in the dataset: ', end='')\n",
    "print(titanic_df['Sex'].count())\n",
    "\n",
    "print('Number of Age values in the dataset: ', end='')\n",
    "print(titanic_df['Age'].count())\n",
    "\n",
    "print('Number of SibSp values in the dataset: ', end='')\n",
    "print(titanic_df['SibSp'].count())\n",
    "\n",
    "print('Number of Parch values in the dataset: ', end='')\n",
    "print(titanic_df['Parch'].count())"
   ]
  },
  {
   "cell_type": "markdown",
   "metadata": {},
   "source": [
    "All the data is prepared well except the Age column. I will try to some ilegal data in this column."
   ]
  },
  {
   "cell_type": "code",
   "execution_count": 3,
   "metadata": {},
   "outputs": [
    {
     "data": {
      "text/plain": [
       "177"
      ]
     },
     "execution_count": 3,
     "metadata": {},
     "output_type": "execute_result"
    }
   ],
   "source": [
    "titanic_df['Age'].isnull().sum()"
   ]
  },
  {
   "cell_type": "markdown",
   "metadata": {},
   "source": [
    "There are 177 values missing in the dataset. I assume the missing ages are distributed similarly to the ages that are present and I will fill those values with the mean age."
   ]
  },
  {
   "cell_type": "code",
   "execution_count": 4,
   "metadata": {},
   "outputs": [
    {
     "data": {
      "text/plain": [
       "0      22.000000\n",
       "1      38.000000\n",
       "2      26.000000\n",
       "3      35.000000\n",
       "4      35.000000\n",
       "5      29.699118\n",
       "6      54.000000\n",
       "7       2.000000\n",
       "8      27.000000\n",
       "9      14.000000\n",
       "10      4.000000\n",
       "11     58.000000\n",
       "12     20.000000\n",
       "13     39.000000\n",
       "14     14.000000\n",
       "15     55.000000\n",
       "16      2.000000\n",
       "17     29.699118\n",
       "18     31.000000\n",
       "19     29.699118\n",
       "20     35.000000\n",
       "21     34.000000\n",
       "22     15.000000\n",
       "23     28.000000\n",
       "24      8.000000\n",
       "25     38.000000\n",
       "26     29.699118\n",
       "27     19.000000\n",
       "28     29.699118\n",
       "29     29.699118\n",
       "         ...    \n",
       "861    21.000000\n",
       "862    48.000000\n",
       "863    29.699118\n",
       "864    24.000000\n",
       "865    42.000000\n",
       "866    27.000000\n",
       "867    31.000000\n",
       "868    29.699118\n",
       "869     4.000000\n",
       "870    26.000000\n",
       "871    47.000000\n",
       "872    33.000000\n",
       "873    47.000000\n",
       "874    28.000000\n",
       "875    15.000000\n",
       "876    20.000000\n",
       "877    19.000000\n",
       "878    29.699118\n",
       "879    56.000000\n",
       "880    25.000000\n",
       "881    33.000000\n",
       "882    22.000000\n",
       "883    28.000000\n",
       "884    25.000000\n",
       "885    39.000000\n",
       "886    27.000000\n",
       "887    19.000000\n",
       "888    29.699118\n",
       "889    26.000000\n",
       "890    32.000000\n",
       "Name: Age, Length: 891, dtype: float64"
      ]
     },
     "execution_count": 4,
     "metadata": {},
     "output_type": "execute_result"
    }
   ],
   "source": [
    "titanic_df['Age'].fillna(titanic_df['Age'].mean())"
   ]
  },
  {
   "cell_type": "markdown",
   "metadata": {},
   "source": [
    "## Data Exploration Phase\n",
    "\n",
    "I learn from books that in Titanic, people in the first class got warnings earlier than the passengers in the other two classes. So I'm interested in the connection between Pclass and the likelihood that people survive after the disaster.\n",
    "\n",
    "I define the likelihood that people survive here as the survival rate. It can be describe in math as: \n",
    "**number of survived people / total number of people in the same category**.\n",
    "\n",
    "I will calculate the survival rate in each Pclass in the below code block."
   ]
  },
  {
   "cell_type": "code",
   "execution_count": 5,
   "metadata": {},
   "outputs": [
    {
     "name": "stdout",
     "output_type": "stream",
     "text": [
      "Pclass\n",
      "1    0.629630\n",
      "2    0.472826\n",
      "3    0.242363\n",
      "dtype: float64\n"
     ]
    }
   ],
   "source": [
    "Pclass_num_of_people = titanic_df.groupby('Pclass')['PassengerId'].count()\n",
    "Pclass_survival_num = titanic_df.groupby('Pclass')['Survived'].sum()\n",
    "Pclass_survival_rate = Pclass_survival_num / Pclass_num_of_people\n",
    "print(Pclass_survival_rate)"
   ]
  },
  {
   "cell_type": "markdown",
   "metadata": {
    "collapsed": true
   },
   "source": [
    "The first class has a survival rate 0.63, the second class has a survival rate 0.47 and the third class has a survival rate 0.24. We can draw a conclusion from this figure that people in a higher class are more likely to survive. It seems that those rich people in the first class really got warnings and prepare to escape at that time.\n",
    "\n",
    "Likewise, I'm interested in the connection between sex and survival rate."
   ]
  },
  {
   "cell_type": "code",
   "execution_count": 6,
   "metadata": {},
   "outputs": [
    {
     "name": "stdout",
     "output_type": "stream",
     "text": [
      "Sex\n",
      "female    0.742038\n",
      "male      0.188908\n",
      "dtype: float64\n"
     ]
    }
   ],
   "source": [
    "people_grouped_by_sex = titanic_df.groupby('Sex')\n",
    "survived_people_by_sex = people_grouped_by_sex['Survived'].sum()\n",
    "total_people_by_sex = people_grouped_by_sex['PassengerId'].count()\n",
    "survival_rate_by_sex = survived_people_by_sex / total_people_by_sex\n",
    "\n",
    "print(survival_rate_by_sex)"
   ]
  },
  {
   "cell_type": "markdown",
   "metadata": {},
   "source": [
    "From this group of figure, I can see that ladies, girls were far more easy to survive at that time. Yes, 'Ladies first'. And 'Ladies first' means people should take care of the weakness. How about children and the old men/women? e.g. What's the connection between age and the survive rate?\n",
    "\n",
    "First, I must know the maximum and the minimum age in the dataset so I can divide ages into several ranges."
   ]
  },
  {
   "cell_type": "code",
   "execution_count": 7,
   "metadata": {},
   "outputs": [
    {
     "name": "stdout",
     "output_type": "stream",
     "text": [
      "Maximum age of the titanic people: 80.0\n",
      "Minimum age of the titanic people: 0.42\n"
     ]
    }
   ],
   "source": [
    "age_series = titanic_df['Age']\n",
    "\n",
    "print(\"Maximum age of the titanic people: \", end='')\n",
    "print(age_series.max())\n",
    "print(\"Minimum age of the titanic people: \", end='')\n",
    "print(age_series.min())"
   ]
  },
  {
   "cell_type": "markdown",
   "metadata": {},
   "source": [
    "Since the minimal age is less than 1 and is estimated as fraction, I will still treate it as an age between 0 - 10. I will group all the people in the titanic into 8 groups by their age: 0 - 10, 10 - 20, 20 - 30, 30 - 40 , 40 - 50, 50 - 60, 60 - 70, 70 - 80. \n",
    "\n",
    "In each group, I will calculate their survival rate to demonstrate a clear connection between age and survival rate."
   ]
  },
  {
   "cell_type": "code",
   "execution_count": 8,
   "metadata": {},
   "outputs": [
    {
     "data": {
      "text/plain": [
       "<matplotlib.text.Text at 0x115b54d30>"
      ]
     },
     "execution_count": 8,
     "metadata": {},
     "output_type": "execute_result"
    },
    {
     "data": {
      "image/png": "[encoded data removed]",
      "text/plain": [
       "<matplotlib.figure.Figure at 0x10b8e66d8>"
      ]
     },
     "metadata": {},
     "output_type": "display_data"
    }
   ],
   "source": [
    "grouped_by_age = titanic_df.groupby(pd.cut(titanic_df[\"Age\"], [0,10,20,30,40,50,60,70,80]));\n",
    "\n",
    "total_num_of_people_by_age = grouped_by_age.count()['PassengerId']\n",
    "num_of_survived_people_by_age = grouped_by_age['Survived'].sum()\n",
    "survival_rate_by_age = num_of_survived_people_by_age / total_num_of_people_by_age\n",
    "\n",
    "survival_rate_by_age_ax = survival_rate_by_age.plot(kind='bar', title='Survival Rate for each Age Group')\n",
    "survival_rate_by_age_ax.set_xlabel('Age Group')\n",
    "survival_rate_by_age_ax.set_ylabel('Survival Rate')"
   ]
  },
  {
   "cell_type": "markdown",
   "metadata": {},
   "source": [
    "Small children (age <= 10) were more likely to survive. But old men and women (age > 60) were less likely to survive compared with younger men and women. People whose ages were betwen 10 and 60 had similar survive rate around 0.4. It seems that people were more likely to protect children rather than old people. It's just human nature.\n",
    "\n",
    "According to this [blog](https://triangleinequality.wordpress.com/2013/09/08/basic-feature-engineering-with-the-titanic-data/), people travelling without their familes might do good when trying to get on the boat. I will try to confirm this opinion by first calculating the family size of each people, and investigating their survival rate on each category."
   ]
  },
  {
   "cell_type": "code",
   "execution_count": 9,
   "metadata": {},
   "outputs": [
    {
     "name": "stdout",
     "output_type": "stream",
     "text": [
      "Maximum family size in the titanic: 10\n",
      "Minimum family size in the titanic: 0\n"
     ]
    }
   ],
   "source": [
    "titanic_df['family'] = titanic_df['SibSp'] + titanic_df['Parch']\n",
    "\n",
    "print(\"Maximum family size in the titanic: \", end='')\n",
    "print(titanic_df['family'].max())\n",
    "print(\"Minimum family size in the titanic: \", end='')\n",
    "print(titanic_df['family'].min())"
   ]
  },
  {
   "cell_type": "markdown",
   "metadata": {},
   "source": [
    "Since I only got 0 - 10, I will directly use them as the 11 categories."
   ]
  },
  {
   "cell_type": "code",
   "execution_count": 10,
   "metadata": {},
   "outputs": [
    {
     "data": {
      "text/plain": [
       "<matplotlib.text.Text at 0x115b10438>"
      ]
     },
     "execution_count": 10,
     "metadata": {},
     "output_type": "execute_result"
    },
    {
     "data": {
      "image/png": "[encoded data removed]",
      "text/plain": [
       "<matplotlib.figure.Figure at 0x115972a20>"
      ]
     },
     "metadata": {},
     "output_type": "display_data"
    }
   ],
   "source": [
    "grouped_by_family_size = titanic_df.groupby('family');\n",
    "\n",
    "total_num_of_people_by_family = grouped_by_family_size.count()['PassengerId']\n",
    "num_of_survived_people_by_family = grouped_by_family_size['Survived'].sum()\n",
    "survival_rate_by_family = num_of_survived_people_by_family / total_num_of_people_by_family\n",
    "\n",
    "survival_rate_by_family_ax = survival_rate_by_family.plot(kind='bar',title='Survival Rate for each Family Size')\n",
    "survival_rate_by_family_ax.set_xlabel('Family Size')\n",
    "survival_rate_by_family_ax.set_ylabel('Survival Rate')"
   ]
  },
  {
   "cell_type": "markdown",
   "metadata": {},
   "source": [
    "We only got 9 family sizes here. And the blog's conclusion is wrong! Actually people travelling with another 2 family members were more likely to survive at that time. People travelling along did not so good as expected from the above figure. I have heard a story that a woman travelling along in Titanic gave up her seat in the boat to let a mother to get together with her child. This kind of moving action might be the reason. \n",
    "\n",
    "\n",
    "## Question Phase II\n",
    "\n",
    "Another thing I care about is money. I usually think the older people will spend more on their trips. So I will try to find the connection between Fare and Age. I also want to emit data for those people under age 20. Most of their travelling fee was payed by their family. It can't reflect the truth of how much money people will spend on their travelling.\n",
    "\n",
    "\n",
    "## Data Wrangling Phase II\n",
    "\n",
    "I take out the fare and age data and merge them into another DataFrame."
   ]
  },
  {
   "cell_type": "code",
   "execution_count": 11,
   "metadata": {
    "collapsed": true
   },
   "outputs": [],
   "source": [
    "df_fare_and_age = titanic_df[titanic_df['Age'] > 20]\n",
    "plot_df = pd.concat([df_fare_and_age['Fare'], df_fare_and_age['Age']], axis=1)"
   ]
  },
  {
   "cell_type": "markdown",
   "metadata": {},
   "source": [
    "I will try to find out if there are some missing values in the Fare column."
   ]
  },
  {
   "cell_type": "code",
   "execution_count": 12,
   "metadata": {},
   "outputs": [
    {
     "name": "stdout",
     "output_type": "stream",
     "text": [
      "Total passengers in the plot dataset: 535\n",
      "Number of Fare values in the dataset: 535\n"
     ]
    }
   ],
   "source": [
    "print('Total passengers in the plot dataset: ', end='')\n",
    "print(plot_df['Age'].count())\n",
    "\n",
    "print('Number of Fare values in the dataset: ', end='')\n",
    "print(plot_df['Fare'].count())"
   ]
  },
  {
   "cell_type": "markdown",
   "metadata": {},
   "source": [
    "## Data Exploration Phase II\n",
    "\n",
    "No missing values. I will plot the dateframe as a scatter plot so I can find the correlation between them."
   ]
  },
  {
   "cell_type": "code",
   "execution_count": 13,
   "metadata": {},
   "outputs": [
    {
     "data": {
      "image/png": "[encoded data removed]",
      "text/plain": [
       "<matplotlib.figure.Figure at 0x11595afd0>"
      ]
     },
     "metadata": {},
     "output_type": "display_data"
    }
   ],
   "source": [
    "sns.jointplot(x=\"Age\", y=\"Fare\", data=plot_df);"
   ]
  },
  {
   "cell_type": "markdown",
   "metadata": {},
   "source": [
    "The highest fee was payed by two people between 30 - 40. And the oldest people payed just a little on this trip. The correlation parameter, pearson's R, is 0.1, which means that the fare does not have much correlation with age. It seems that my prediction is totally wrong!\n",
    "\n",
    "I'm also interested in the fare. How much money did people pay to get on the ship at that time? To explore this, I will first calculate the maximum and minimum value in the 'Fare' column in the Titanic data, then draw histogram(s) to find out the result."
   ]
  },
  {
   "cell_type": "code",
   "execution_count": 14,
   "metadata": {},
   "outputs": [
    {
     "name": "stdout",
     "output_type": "stream",
     "text": [
      "Maximum fare: 512.3292\n",
      "Minimum fare: 0.0\n"
     ]
    }
   ],
   "source": [
    "print(\"Maximum fare: \", end='')\n",
    "print(titanic_df['Fare'].max())\n",
    "\n",
    "print(\"Minimum fare: \", end='')\n",
    "print(titanic_df['Fare'].min())"
   ]
  },
  {
   "cell_type": "markdown",
   "metadata": {},
   "source": [
    "It looks a little strange with minimum fare 0. However, the instruction that comes with the dataset does not state how the fare data is grabed. I just assume it's a special case that someone got a free ticket.\n",
    "\n",
    "According to the maximum and minimun fare values, I will divide the data into 6 groups: [0, 100), [100, 200), [200, 300), [300, 400), [400, 500), [500, 600). And the following code draw a histogram for the fare data."
   ]
  },
  {
   "cell_type": "code",
   "execution_count": 15,
   "metadata": {},
   "outputs": [
    {
     "data": {
      "text/plain": [
       "<matplotlib.text.Text at 0x119317b38>"
      ]
     },
     "execution_count": 15,
     "metadata": {},
     "output_type": "execute_result"
    },
    {
     "data": {
      "image/png": "[encoded data removed]",
      "text/plain": [
       "<matplotlib.figure.Figure at 0x1190c34a8>"
      ]
     },
     "metadata": {},
     "output_type": "display_data"
    }
   ],
   "source": [
    "plt.hist(titanic_df['Fare'], bins=[0, 100, 200, 300, 400, 500, 600])\n",
    "plt.title('Fare distribution on Titanic Dataset')\n",
    "plt.xlabel('Fare')\n",
    "plt.ylabel('Frequency')"
   ]
  },
  {
   "cell_type": "markdown",
   "metadata": {},
   "source": [
    "A lot of data is between [0, 100]. And I'm curious about how they distributed in this range."
   ]
  },
  {
   "cell_type": "code",
   "execution_count": 16,
   "metadata": {},
   "outputs": [
    {
     "data": {
      "text/plain": [
       "<matplotlib.text.Text at 0x1192f3940>"
      ]
     },
     "execution_count": 16,
     "metadata": {},
     "output_type": "execute_result"
    },
    {
     "data": {
      "image/png": "[encoded data removed]",
      "text/plain": [
       "<matplotlib.figure.Figure at 0x1194e46d8>"
      ]
     },
     "metadata": {},
     "output_type": "display_data"
    }
   ],
   "source": [
    "plt.hist(titanic_df[titanic_df['Fare'] <= 100]['Fare'], bins=[0, 10, 20, 30, 40, 50, 60, 70, 80, 90, 100])\n",
    "plt.title('Fare distribution on Titanic Dataset II')\n",
    "plt.xlabel('Fare between 0 to 100')\n",
    "plt.ylabel('Frequency')"
   ]
  },
  {
   "cell_type": "markdown",
   "metadata": {},
   "source": [
    "A lot of people payed less than 40 dollars to get on the ship. That's cool."
   ]
  },
  {
   "cell_type": "markdown",
   "metadata": {},
   "source": [
    "## Draw Conclusion Phase\n",
    "\n",
    "From the exploration part, I can get this conclusion: if you are in the first class of the ship, you are female, you are younger than 10 and you travel with a 3-people family, than you are more likely to survive in this terrible accident.\n",
    "\n",
    "However, I do not get sufficient evidences/information on the sample (i.e. the dataset) and my conclusion relies heavily on the sample. If the sample data is not taken out from the whole Titanic people's data evenly, my conclusion will be biased. For example, if the data is only taken from the first 891 rows in the whole Titanic people data, then the connection between age and survival rate will not be accurately. There might be more old men/women survived in the left data, they will make the survival rate more higher in age group (70, 80]. The conclusion will then become \"people tend to protect both children and old people when in disaster\".\n",
    "\n",
    "Later, I will confirm the procedure of how the data is obtained to enhance the persuasiveness of my report."
   ]
  }
 ],
 "metadata": {
  "anaconda-cloud": {},
  "kernelspec": {
   "display_name": "Python 3",
   "language": "python",
   "name": "python3"
  },
  "language_info": {
   "codemirror_mode": {
    "name": "ipython",
    "version": 3
   },
   "file_extension": ".py",
   "mimetype": "text/x-python",
   "name": "python",
   "nbconvert_exporter": "python",
   "pygments_lexer": "ipython3",
   "version": "3.5.4"
  }
 },
 "nbformat": 4,
 "nbformat_minor": 2
}
